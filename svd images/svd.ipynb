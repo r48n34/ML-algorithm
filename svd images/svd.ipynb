{
  "cells": [
    {
      "cell_type": "code",
      "execution_count": 4,
      "metadata": {
        "id": "gEFRuW8Ft-KI"
      },
      "outputs": [],
      "source": [
        "import matplotlib.pyplot as plt\n",
        "import numpy as np\n",
        "import time\n",
        "\n",
        "from PIL import Image"
      ]
    },
    {
      "cell_type": "code",
      "execution_count": null,
      "metadata": {
        "colab": {
          "base_uri": "https://localhost:8080/",
          "height": 395
        },
        "id": "3QDzZ9jauBGH",
        "outputId": "af8422d0-c48c-43ac-e3a3-11f3ddefb04e"
      },
      "outputs": [],
      "source": [
        "img = Image.open('/content/pattern.png')\n",
        "imggray = img.convert('LA')\n",
        "plt.figure(figsize=(9, 6))\n",
        "plt.imshow(imggray)"
      ]
    },
    {
      "cell_type": "code",
      "execution_count": null,
      "metadata": {
        "colab": {
          "base_uri": "https://localhost:8080/",
          "height": 378
        },
        "id": "arMVqMXduJ09",
        "outputId": "cf71778f-8d14-480d-ae00-2fcb1797b627"
      },
      "outputs": [],
      "source": [
        "imgmat = np.array(list(imggray.getdata(band=0)), float)\n",
        "imgmat.shape = (imggray.size[1], imggray.size[0])\n",
        "imgmat = np.matrix(imgmat)\n",
        "plt.figure(figsize=(9,6))\n",
        "plt.imshow(imgmat, cmap='gray');"
      ]
    },
    {
      "cell_type": "code",
      "execution_count": 7,
      "metadata": {
        "id": "3MCkORhLvTbx"
      },
      "outputs": [],
      "source": [
        "U, sigma, V = np.linalg.svd(imgmat)"
      ]
    },
    {
      "cell_type": "code",
      "execution_count": null,
      "metadata": {
        "colab": {
          "base_uri": "https://localhost:8080/",
          "height": 269
        },
        "id": "EzJKArt1vU0H",
        "outputId": "c57e545f-932c-42b1-c259-8af242f951a3"
      },
      "outputs": [],
      "source": [
        "reconstimg = np.matrix(U[:, :1]) * np.diag(sigma[:1]) * np.matrix(V[:1, :])\n",
        "plt.imshow(reconstimg, cmap='gray');"
      ]
    },
    {
      "cell_type": "code",
      "execution_count": null,
      "metadata": {
        "colab": {
          "base_uri": "https://localhost:8080/",
          "height": 1000
        },
        "id": "TkWhxmUBvapJ",
        "outputId": "91bb8210-5e7a-4ea2-b890-036976b2f6b8"
      },
      "outputs": [],
      "source": [
        "for i in range(2, 20):\n",
        "    reconstimg = np.matrix(U[:, :i]) * np.diag(sigma[:i]) * np.matrix(V[:i, :])\n",
        "    plt.imshow(reconstimg, cmap='gray')\n",
        "    title = \"n = %s\" % i\n",
        "    plt.title(title)\n",
        "    plt.show()"
      ]
    }
  ],
  "metadata": {
    "colab": {
      "name": "ee4016hw3.ipynb",
      "provenance": []
    },
    "kernelspec": {
      "display_name": "Python 3",
      "name": "python3"
    },
    "language_info": {
      "name": "python"
    }
  },
  "nbformat": 4,
  "nbformat_minor": 0
}
